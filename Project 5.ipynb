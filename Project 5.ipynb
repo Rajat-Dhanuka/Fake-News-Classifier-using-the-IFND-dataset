{
 "cells": [
  {
   "cell_type": "markdown",
   "id": "f6f0b3e2-7fed-41d5-8d3d-e27cda34200c",
   "metadata": {
    "tags": []
   },
   "source": [
    "## Building a Fake News Classifier using the IFND Dataset"
   ]
  },
  {
   "cell_type": "markdown",
   "id": "5fe5d820-b9d2-4b44-b58c-e9aac09602a3",
   "metadata": {},
   "source": [
    "Link to dataset: https://www.kaggle.com/datasets/sonalgarg174/ifnd-dataset"
   ]
  },
  {
   "cell_type": "code",
   "execution_count": 1,
   "id": "1aec6057-705a-43c6-a3e4-085ef7997618",
   "metadata": {},
   "outputs": [],
   "source": [
    "import pandas as pd\n",
    "import numpy as np\n",
    "import nltk\n",
    "import matplotlib.pyplot as plt"
   ]
  },
  {
   "cell_type": "code",
   "execution_count": 2,
   "id": "a9b17061-a408-43e7-b333-b18b8660fb3a",
   "metadata": {},
   "outputs": [],
   "source": [
    "df = pd.read_csv('IFND dataset/IFND.csv',encoding = \"ISO-8859-1\")"
   ]
  },
  {
   "cell_type": "markdown",
   "id": "b122ae2f-506f-4b6e-9557-46e8e803caa6",
   "metadata": {},
   "source": [
    "**Analyzing the dataset**"
   ]
  },
  {
   "cell_type": "code",
   "execution_count": 3,
   "id": "c5a306d8-b988-4a55-a893-5db1adac513a",
   "metadata": {},
   "outputs": [
    {
     "data": {
      "text/plain": [
       "(56714, 7)"
      ]
     },
     "execution_count": 3,
     "metadata": {},
     "output_type": "execute_result"
    }
   ],
   "source": [
    "df.shape"
   ]
  },
  {
   "cell_type": "code",
   "execution_count": 4,
   "id": "503575ed-b2d7-4cb4-ae89-a4a0a6d9f4da",
   "metadata": {},
   "outputs": [
    {
     "data": {
      "text/html": [
       "<div>\n",
       "<style scoped>\n",
       "    .dataframe tbody tr th:only-of-type {\n",
       "        vertical-align: middle;\n",
       "    }\n",
       "\n",
       "    .dataframe tbody tr th {\n",
       "        vertical-align: top;\n",
       "    }\n",
       "\n",
       "    .dataframe thead th {\n",
       "        text-align: right;\n",
       "    }\n",
       "</style>\n",
       "<table border=\"1\" class=\"dataframe\">\n",
       "  <thead>\n",
       "    <tr style=\"text-align: right;\">\n",
       "      <th></th>\n",
       "      <th>id</th>\n",
       "      <th>Statement</th>\n",
       "      <th>Image</th>\n",
       "      <th>Web</th>\n",
       "      <th>Category</th>\n",
       "      <th>Date</th>\n",
       "      <th>Label</th>\n",
       "    </tr>\n",
       "  </thead>\n",
       "  <tbody>\n",
       "    <tr>\n",
       "      <th>0</th>\n",
       "      <td>2</td>\n",
       "      <td>WHO praises India's Aarogya Setu app, says it ...</td>\n",
       "      <td>https://cdn.dnaindia.com/sites/default/files/s...</td>\n",
       "      <td>DNAINDIA</td>\n",
       "      <td>COVID-19</td>\n",
       "      <td>Oct-20</td>\n",
       "      <td>TRUE</td>\n",
       "    </tr>\n",
       "    <tr>\n",
       "      <th>1</th>\n",
       "      <td>3</td>\n",
       "      <td>In Delhi, Deputy US Secretary of State Stephen...</td>\n",
       "      <td>https://cdn.dnaindia.com/sites/default/files/s...</td>\n",
       "      <td>DNAINDIA</td>\n",
       "      <td>VIOLENCE</td>\n",
       "      <td>Oct-20</td>\n",
       "      <td>TRUE</td>\n",
       "    </tr>\n",
       "    <tr>\n",
       "      <th>2</th>\n",
       "      <td>4</td>\n",
       "      <td>LAC tensions: China's strategy behind delibera...</td>\n",
       "      <td>https://cdn.dnaindia.com/sites/default/files/s...</td>\n",
       "      <td>DNAINDIA</td>\n",
       "      <td>TERROR</td>\n",
       "      <td>Oct-20</td>\n",
       "      <td>TRUE</td>\n",
       "    </tr>\n",
       "    <tr>\n",
       "      <th>3</th>\n",
       "      <td>5</td>\n",
       "      <td>India has signed 250 documents on Space cooper...</td>\n",
       "      <td>https://cdn.dnaindia.com/sites/default/files/s...</td>\n",
       "      <td>DNAINDIA</td>\n",
       "      <td>COVID-19</td>\n",
       "      <td>Oct-20</td>\n",
       "      <td>TRUE</td>\n",
       "    </tr>\n",
       "    <tr>\n",
       "      <th>4</th>\n",
       "      <td>6</td>\n",
       "      <td>Tamil Nadu chief minister's mother passes away...</td>\n",
       "      <td>https://cdn.dnaindia.com/sites/default/files/s...</td>\n",
       "      <td>DNAINDIA</td>\n",
       "      <td>ELECTION</td>\n",
       "      <td>Oct-20</td>\n",
       "      <td>TRUE</td>\n",
       "    </tr>\n",
       "  </tbody>\n",
       "</table>\n",
       "</div>"
      ],
      "text/plain": [
       "   id                                          Statement  \\\n",
       "0   2  WHO praises India's Aarogya Setu app, says it ...   \n",
       "1   3  In Delhi, Deputy US Secretary of State Stephen...   \n",
       "2   4  LAC tensions: China's strategy behind delibera...   \n",
       "3   5  India has signed 250 documents on Space cooper...   \n",
       "4   6  Tamil Nadu chief minister's mother passes away...   \n",
       "\n",
       "                                               Image       Web  Category  \\\n",
       "0  https://cdn.dnaindia.com/sites/default/files/s...  DNAINDIA  COVID-19   \n",
       "1  https://cdn.dnaindia.com/sites/default/files/s...  DNAINDIA  VIOLENCE   \n",
       "2  https://cdn.dnaindia.com/sites/default/files/s...  DNAINDIA    TERROR   \n",
       "3  https://cdn.dnaindia.com/sites/default/files/s...  DNAINDIA  COVID-19   \n",
       "4  https://cdn.dnaindia.com/sites/default/files/s...  DNAINDIA  ELECTION   \n",
       "\n",
       "     Date Label  \n",
       "0  Oct-20  TRUE  \n",
       "1  Oct-20  TRUE  \n",
       "2  Oct-20  TRUE  \n",
       "3  Oct-20  TRUE  \n",
       "4  Oct-20  TRUE  "
      ]
     },
     "execution_count": 4,
     "metadata": {},
     "output_type": "execute_result"
    }
   ],
   "source": [
    "df.head()"
   ]
  },
  {
   "cell_type": "code",
   "execution_count": 5,
   "id": "e2b72aa5-aaca-4aa2-a77d-05bbe10c0574",
   "metadata": {},
   "outputs": [
    {
     "name": "stdout",
     "output_type": "stream",
     "text": [
      "Date 0.1996  % missing values\n"
     ]
    }
   ],
   "source": [
    "##extracting features with null values\n",
    "features_with_na=[features for features in df.columns if df[features].isnull().sum()>1]\n",
    "\n",
    "##print the feature name and the percentage of missing values\n",
    "for feature in features_with_na:\n",
    "    print(feature, np.round(df[feature].isnull().mean(), 4),  ' % missing values')"
   ]
  },
  {
   "cell_type": "code",
   "execution_count": 6,
   "id": "3843cb20-0a97-4bc4-b9af-ea1a39d6d2ec",
   "metadata": {},
   "outputs": [],
   "source": [
    "##dropping unwanted features from data\n",
    "X = df.drop(['Image','Web','Date','Label'],axis=1)"
   ]
  },
  {
   "cell_type": "code",
   "execution_count": 7,
   "id": "ab11d671-512c-472e-875c-84d14e3659a1",
   "metadata": {},
   "outputs": [
    {
     "data": {
      "text/html": [
       "<div>\n",
       "<style scoped>\n",
       "    .dataframe tbody tr th:only-of-type {\n",
       "        vertical-align: middle;\n",
       "    }\n",
       "\n",
       "    .dataframe tbody tr th {\n",
       "        vertical-align: top;\n",
       "    }\n",
       "\n",
       "    .dataframe thead th {\n",
       "        text-align: right;\n",
       "    }\n",
       "</style>\n",
       "<table border=\"1\" class=\"dataframe\">\n",
       "  <thead>\n",
       "    <tr style=\"text-align: right;\">\n",
       "      <th></th>\n",
       "      <th>id</th>\n",
       "      <th>Statement</th>\n",
       "      <th>Category</th>\n",
       "    </tr>\n",
       "  </thead>\n",
       "  <tbody>\n",
       "    <tr>\n",
       "      <th>0</th>\n",
       "      <td>2</td>\n",
       "      <td>WHO praises India's Aarogya Setu app, says it ...</td>\n",
       "      <td>COVID-19</td>\n",
       "    </tr>\n",
       "    <tr>\n",
       "      <th>1</th>\n",
       "      <td>3</td>\n",
       "      <td>In Delhi, Deputy US Secretary of State Stephen...</td>\n",
       "      <td>VIOLENCE</td>\n",
       "    </tr>\n",
       "    <tr>\n",
       "      <th>2</th>\n",
       "      <td>4</td>\n",
       "      <td>LAC tensions: China's strategy behind delibera...</td>\n",
       "      <td>TERROR</td>\n",
       "    </tr>\n",
       "    <tr>\n",
       "      <th>3</th>\n",
       "      <td>5</td>\n",
       "      <td>India has signed 250 documents on Space cooper...</td>\n",
       "      <td>COVID-19</td>\n",
       "    </tr>\n",
       "    <tr>\n",
       "      <th>4</th>\n",
       "      <td>6</td>\n",
       "      <td>Tamil Nadu chief minister's mother passes away...</td>\n",
       "      <td>ELECTION</td>\n",
       "    </tr>\n",
       "  </tbody>\n",
       "</table>\n",
       "</div>"
      ],
      "text/plain": [
       "   id                                          Statement  Category\n",
       "0   2  WHO praises India's Aarogya Setu app, says it ...  COVID-19\n",
       "1   3  In Delhi, Deputy US Secretary of State Stephen...  VIOLENCE\n",
       "2   4  LAC tensions: China's strategy behind delibera...    TERROR\n",
       "3   5  India has signed 250 documents on Space cooper...  COVID-19\n",
       "4   6  Tamil Nadu chief minister's mother passes away...  ELECTION"
      ]
     },
     "execution_count": 7,
     "metadata": {},
     "output_type": "execute_result"
    }
   ],
   "source": [
    "X.head()"
   ]
  },
  {
   "cell_type": "code",
   "execution_count": 7,
   "id": "07487b62-8c03-40f8-b595-79187477d5b8",
   "metadata": {},
   "outputs": [],
   "source": [
    "##creating a binary list of the dependent variable\n",
    "y = pd.get_dummies(df['Label'])\n",
    "y = y.iloc[:,0].values"
   ]
  },
  {
   "cell_type": "code",
   "execution_count": 9,
   "id": "b844e503-f177-4f97-ae1c-ea8f7ebce0a8",
   "metadata": {},
   "outputs": [
    {
     "data": {
      "text/plain": [
       "array([0, 0, 0, ..., 1, 1, 1], dtype=uint8)"
      ]
     },
     "execution_count": 9,
     "metadata": {},
     "output_type": "execute_result"
    }
   ],
   "source": [
    "y"
   ]
  },
  {
   "cell_type": "markdown",
   "id": "e6b41cb1-7c91-49db-a86e-a5f8756852a6",
   "metadata": {
    "tags": []
   },
   "source": [
    "### Pre Processing"
   ]
  },
  {
   "cell_type": "code",
   "execution_count": 8,
   "id": "d322cfc6-4ce0-451d-8429-56a0b7d2eb1b",
   "metadata": {},
   "outputs": [],
   "source": [
    "messages = df.copy()"
   ]
  },
  {
   "cell_type": "code",
   "execution_count": 9,
   "id": "b3ac2ee9-27b8-45aa-bcec-7d9125c9446e",
   "metadata": {},
   "outputs": [],
   "source": [
    "#Cleaning\n",
    "from nltk.corpus import stopwords                  #List of stopwords (is, an, the) from english language\n",
    "from nltk.stem.porter import PorterStemmer         #Stemming function\n",
    "import re\n",
    "ps = PorterStemmer()                               #Stemmer Object\n",
    "corpus = []\n",
    "for i in range(0, len(messages)):\n",
    "    \n",
    "    #removing everything from words except letters\n",
    "    review = re.sub('[^a-zA-Z]', ' ', messages['Statement'][i])\n",
    "    \n",
    "    #converting all words to lower case\n",
    "    review = review.lower()\n",
    "    \n",
    "    #splitting and storing sentences as list of words\n",
    "    review = review.split()\n",
    "    \n",
    "    #\n",
    "    review = [ps.stem(word) for word in review if not word in stopwords.words('english')]  ##stemming only those words which are not stopwords\n",
    "    \n",
    "    review = ' '.join(review)\n",
    "    corpus.append(review)"
   ]
  },
  {
   "cell_type": "code",
   "execution_count": 11,
   "id": "bdf29324-8a97-409b-9146-ee6a6613c623",
   "metadata": {},
   "outputs": [
    {
     "data": {
      "text/plain": [
       "'union financ minist nirmala sitharaman today target congress parti chief sonia gandhi advic parti rule state bypass farm law brought centr legisl measur said opposit parti lok sabha manifesto promis agricultur produc market committe act repeal titl'"
      ]
     },
     "execution_count": 11,
     "metadata": {},
     "output_type": "execute_result"
    }
   ],
   "source": [
    "corpus[998]"
   ]
  },
  {
   "cell_type": "code",
   "execution_count": 12,
   "id": "05c12758-19cc-4648-b538-bb9a19287c88",
   "metadata": {},
   "outputs": [
    {
     "data": {
      "text/plain": [
       "248"
      ]
     },
     "execution_count": 12,
     "metadata": {},
     "output_type": "execute_result"
    }
   ],
   "source": [
    "len(corpus[998])"
   ]
  },
  {
   "cell_type": "code",
   "execution_count": 13,
   "id": "580377a9-6500-4f45-be64-b5ad7d9f9cce",
   "metadata": {},
   "outputs": [],
   "source": [
    "lengths = np.array([x.count(' ')+1 for x in corpus])\n",
    "maxLength = max(lengths)\n",
    "maxpos = np.argmax(lengths)"
   ]
  },
  {
   "cell_type": "code",
   "execution_count": 14,
   "id": "1738db5d-984e-4976-9063-c8010721e207",
   "metadata": {},
   "outputs": [
    {
     "data": {
      "text/plain": [
       "37"
      ]
     },
     "execution_count": 14,
     "metadata": {},
     "output_type": "execute_result"
    }
   ],
   "source": [
    "maxLength"
   ]
  },
  {
   "cell_type": "code",
   "execution_count": 15,
   "id": "efc80d9a-d5bc-4190-be42-0f7ab51efa95",
   "metadata": {},
   "outputs": [
    {
     "data": {
      "text/plain": [
       "998"
      ]
     },
     "execution_count": 15,
     "metadata": {},
     "output_type": "execute_result"
    }
   ],
   "source": [
    "maxpos"
   ]
  },
  {
   "cell_type": "markdown",
   "id": "c1fdee00-1b07-4681-a612-015146890c28",
   "metadata": {
    "tags": []
   },
   "source": [
    "### TF-IDF Vectorizer"
   ]
  },
  {
   "cell_type": "markdown",
   "id": "78f6f2e8-4c5e-4b9b-97de-4a2b559edc87",
   "metadata": {},
   "source": [
    "**The Tf-Idf vectorizer converts our corpus into a vector of values between 0 and 1** - It is short for Term Frequency * Inverse Document Frequency\n",
    "\n",
    "*Term Frequency = frequency of word in a sent / no. of words in a sent*\n",
    "\n",
    "*Inverse Document Frequency = log(total no. of sentences / no. of sentences containing the word)*"
   ]
  },
  {
   "cell_type": "code",
   "execution_count": 16,
   "id": "72d2d207-8e2e-4377-b9f5-ce0c6993b2ef",
   "metadata": {},
   "outputs": [],
   "source": [
    "from sklearn.feature_extraction.text import TfidfVectorizer\n",
    "tfidf_v=TfidfVectorizer(max_features=5000,ngram_range=(1,3))\n",
    "X=tfidf_v.fit_transform(corpus).toarray()"
   ]
  },
  {
   "cell_type": "code",
   "execution_count": 17,
   "id": "24fe5b5a-cab3-41f6-8cf7-f62ea34b0676",
   "metadata": {},
   "outputs": [
    {
     "data": {
      "text/plain": [
       "(56714, 5000)"
      ]
     },
     "execution_count": 17,
     "metadata": {},
     "output_type": "execute_result"
    }
   ],
   "source": [
    "X.shape"
   ]
  },
  {
   "cell_type": "code",
   "execution_count": 18,
   "id": "f90400b8-0bb5-423f-b397-19968a55a425",
   "metadata": {},
   "outputs": [],
   "source": [
    "## Divide the dataset into Train and Test\n",
    "from sklearn.model_selection import train_test_split\n",
    "X_train, X_test, y_train, y_test = train_test_split(X, y, test_size=0.20, random_state=0)"
   ]
  },
  {
   "cell_type": "code",
   "execution_count": 19,
   "id": "47f6dbd3-accd-4074-b9f6-ebedcda3a962",
   "metadata": {},
   "outputs": [
    {
     "data": {
      "text/plain": [
       "array(['aadhaar', 'aaditya', 'aaditya thackeray', 'aadmi', 'aadmi parti',\n",
       "       'aaj', 'aaj tak', 'aam', 'aam aadmi', 'aamir', 'aamir khan', 'aap',\n",
       "       'aap govt', 'aap leader', 'aap mla', 'aatmanirbhar', 'aayog',\n",
       "       'abduct', 'abdul', 'abdullah'], dtype=object)"
      ]
     },
     "execution_count": 19,
     "metadata": {},
     "output_type": "execute_result"
    }
   ],
   "source": [
    "tfidf_v.get_feature_names_out()[:20]"
   ]
  },
  {
   "cell_type": "code",
   "execution_count": 20,
   "id": "75473874-f45b-4d89-bf47-a210d1a84bf1",
   "metadata": {},
   "outputs": [
    {
     "data": {
      "text/plain": [
       "{'analyzer': 'word',\n",
       " 'binary': False,\n",
       " 'decode_error': 'strict',\n",
       " 'dtype': numpy.float64,\n",
       " 'encoding': 'utf-8',\n",
       " 'input': 'content',\n",
       " 'lowercase': True,\n",
       " 'max_df': 1.0,\n",
       " 'max_features': 5000,\n",
       " 'min_df': 1,\n",
       " 'ngram_range': (1, 3),\n",
       " 'norm': 'l2',\n",
       " 'preprocessor': None,\n",
       " 'smooth_idf': True,\n",
       " 'stop_words': None,\n",
       " 'strip_accents': None,\n",
       " 'sublinear_tf': False,\n",
       " 'token_pattern': '(?u)\\\\b\\\\w\\\\w+\\\\b',\n",
       " 'tokenizer': None,\n",
       " 'use_idf': True,\n",
       " 'vocabulary': None}"
      ]
     },
     "execution_count": 20,
     "metadata": {},
     "output_type": "execute_result"
    }
   ],
   "source": [
    "tfidf_v.get_params()"
   ]
  },
  {
   "cell_type": "code",
   "execution_count": 22,
   "id": "f861f759-7b2d-4c3b-8f27-cdc58a572984",
   "metadata": {},
   "outputs": [],
   "source": [
    "count_df = pd.DataFrame(X_train, columns=tfidf_v.get_feature_names_out())"
   ]
  },
  {
   "cell_type": "code",
   "execution_count": 23,
   "id": "799638a1-5174-4bc7-a8fd-a4e5b5552b35",
   "metadata": {},
   "outputs": [
    {
     "data": {
      "text/html": [
       "<div>\n",
       "<style scoped>\n",
       "    .dataframe tbody tr th:only-of-type {\n",
       "        vertical-align: middle;\n",
       "    }\n",
       "\n",
       "    .dataframe tbody tr th {\n",
       "        vertical-align: top;\n",
       "    }\n",
       "\n",
       "    .dataframe thead th {\n",
       "        text-align: right;\n",
       "    }\n",
       "</style>\n",
       "<table border=\"1\" class=\"dataframe\">\n",
       "  <thead>\n",
       "    <tr style=\"text-align: right;\">\n",
       "      <th></th>\n",
       "      <th>aadhaar</th>\n",
       "      <th>aaditya</th>\n",
       "      <th>aaditya thackeray</th>\n",
       "      <th>aadmi</th>\n",
       "      <th>aadmi parti</th>\n",
       "      <th>aaj</th>\n",
       "      <th>aaj tak</th>\n",
       "      <th>aam</th>\n",
       "      <th>aam aadmi</th>\n",
       "      <th>aamir</th>\n",
       "      <th>...</th>\n",
       "      <th>yr</th>\n",
       "      <th>yr old</th>\n",
       "      <th>ysrcp</th>\n",
       "      <th>zealand</th>\n",
       "      <th>zee</th>\n",
       "      <th>zee news</th>\n",
       "      <th>zero</th>\n",
       "      <th>zindabad</th>\n",
       "      <th>zone</th>\n",
       "      <th>zuckerberg</th>\n",
       "    </tr>\n",
       "  </thead>\n",
       "  <tbody>\n",
       "    <tr>\n",
       "      <th>0</th>\n",
       "      <td>0.0</td>\n",
       "      <td>0.0</td>\n",
       "      <td>0.0</td>\n",
       "      <td>0.0</td>\n",
       "      <td>0.0</td>\n",
       "      <td>0.0</td>\n",
       "      <td>0.0</td>\n",
       "      <td>0.0</td>\n",
       "      <td>0.0</td>\n",
       "      <td>0.0</td>\n",
       "      <td>...</td>\n",
       "      <td>0.0</td>\n",
       "      <td>0.0</td>\n",
       "      <td>0.0</td>\n",
       "      <td>0.0</td>\n",
       "      <td>0.0</td>\n",
       "      <td>0.0</td>\n",
       "      <td>0.0</td>\n",
       "      <td>0.0</td>\n",
       "      <td>0.0</td>\n",
       "      <td>0.0</td>\n",
       "    </tr>\n",
       "    <tr>\n",
       "      <th>1</th>\n",
       "      <td>0.0</td>\n",
       "      <td>0.0</td>\n",
       "      <td>0.0</td>\n",
       "      <td>0.0</td>\n",
       "      <td>0.0</td>\n",
       "      <td>0.0</td>\n",
       "      <td>0.0</td>\n",
       "      <td>0.0</td>\n",
       "      <td>0.0</td>\n",
       "      <td>0.0</td>\n",
       "      <td>...</td>\n",
       "      <td>0.0</td>\n",
       "      <td>0.0</td>\n",
       "      <td>0.0</td>\n",
       "      <td>0.0</td>\n",
       "      <td>0.0</td>\n",
       "      <td>0.0</td>\n",
       "      <td>0.0</td>\n",
       "      <td>0.0</td>\n",
       "      <td>0.0</td>\n",
       "      <td>0.0</td>\n",
       "    </tr>\n",
       "    <tr>\n",
       "      <th>2</th>\n",
       "      <td>0.0</td>\n",
       "      <td>0.0</td>\n",
       "      <td>0.0</td>\n",
       "      <td>0.0</td>\n",
       "      <td>0.0</td>\n",
       "      <td>0.0</td>\n",
       "      <td>0.0</td>\n",
       "      <td>0.0</td>\n",
       "      <td>0.0</td>\n",
       "      <td>0.0</td>\n",
       "      <td>...</td>\n",
       "      <td>0.0</td>\n",
       "      <td>0.0</td>\n",
       "      <td>0.0</td>\n",
       "      <td>0.0</td>\n",
       "      <td>0.0</td>\n",
       "      <td>0.0</td>\n",
       "      <td>0.0</td>\n",
       "      <td>0.0</td>\n",
       "      <td>0.0</td>\n",
       "      <td>0.0</td>\n",
       "    </tr>\n",
       "    <tr>\n",
       "      <th>3</th>\n",
       "      <td>0.0</td>\n",
       "      <td>0.0</td>\n",
       "      <td>0.0</td>\n",
       "      <td>0.0</td>\n",
       "      <td>0.0</td>\n",
       "      <td>0.0</td>\n",
       "      <td>0.0</td>\n",
       "      <td>0.0</td>\n",
       "      <td>0.0</td>\n",
       "      <td>0.0</td>\n",
       "      <td>...</td>\n",
       "      <td>0.0</td>\n",
       "      <td>0.0</td>\n",
       "      <td>0.0</td>\n",
       "      <td>0.0</td>\n",
       "      <td>0.0</td>\n",
       "      <td>0.0</td>\n",
       "      <td>0.0</td>\n",
       "      <td>0.0</td>\n",
       "      <td>0.0</td>\n",
       "      <td>0.0</td>\n",
       "    </tr>\n",
       "    <tr>\n",
       "      <th>4</th>\n",
       "      <td>0.0</td>\n",
       "      <td>0.0</td>\n",
       "      <td>0.0</td>\n",
       "      <td>0.0</td>\n",
       "      <td>0.0</td>\n",
       "      <td>0.0</td>\n",
       "      <td>0.0</td>\n",
       "      <td>0.0</td>\n",
       "      <td>0.0</td>\n",
       "      <td>0.0</td>\n",
       "      <td>...</td>\n",
       "      <td>0.0</td>\n",
       "      <td>0.0</td>\n",
       "      <td>0.0</td>\n",
       "      <td>0.0</td>\n",
       "      <td>0.0</td>\n",
       "      <td>0.0</td>\n",
       "      <td>0.0</td>\n",
       "      <td>0.0</td>\n",
       "      <td>0.0</td>\n",
       "      <td>0.0</td>\n",
       "    </tr>\n",
       "  </tbody>\n",
       "</table>\n",
       "<p>5 rows × 5000 columns</p>\n",
       "</div>"
      ],
      "text/plain": [
       "   aadhaar  aaditya  aaditya thackeray  aadmi  aadmi parti  aaj  aaj tak  aam  \\\n",
       "0      0.0      0.0                0.0    0.0          0.0  0.0      0.0  0.0   \n",
       "1      0.0      0.0                0.0    0.0          0.0  0.0      0.0  0.0   \n",
       "2      0.0      0.0                0.0    0.0          0.0  0.0      0.0  0.0   \n",
       "3      0.0      0.0                0.0    0.0          0.0  0.0      0.0  0.0   \n",
       "4      0.0      0.0                0.0    0.0          0.0  0.0      0.0  0.0   \n",
       "\n",
       "   aam aadmi  aamir  ...   yr  yr old  ysrcp  zealand  zee  zee news  zero  \\\n",
       "0        0.0    0.0  ...  0.0     0.0    0.0      0.0  0.0       0.0   0.0   \n",
       "1        0.0    0.0  ...  0.0     0.0    0.0      0.0  0.0       0.0   0.0   \n",
       "2        0.0    0.0  ...  0.0     0.0    0.0      0.0  0.0       0.0   0.0   \n",
       "3        0.0    0.0  ...  0.0     0.0    0.0      0.0  0.0       0.0   0.0   \n",
       "4        0.0    0.0  ...  0.0     0.0    0.0      0.0  0.0       0.0   0.0   \n",
       "\n",
       "   zindabad  zone  zuckerberg  \n",
       "0       0.0   0.0         0.0  \n",
       "1       0.0   0.0         0.0  \n",
       "2       0.0   0.0         0.0  \n",
       "3       0.0   0.0         0.0  \n",
       "4       0.0   0.0         0.0  \n",
       "\n",
       "[5 rows x 5000 columns]"
      ]
     },
     "execution_count": 23,
     "metadata": {},
     "output_type": "execute_result"
    }
   ],
   "source": [
    "count_df.head"
   ]
  },
  {
   "cell_type": "markdown",
   "id": "91c6fa6e-3c59-47b6-8e95-2a5f8b4d5846",
   "metadata": {
    "tags": []
   },
   "source": [
    "### Word2Vec"
   ]
  },
  {
   "cell_type": "code",
   "execution_count": 33,
   "id": "f1bcdc6b-b487-4cae-aaed-a2057589ff51",
   "metadata": {},
   "outputs": [],
   "source": [
    "from gensim.models import Word2Vec\n",
    "from gensim.utils import simple_preprocess"
   ]
  },
  {
   "cell_type": "code",
   "execution_count": 34,
   "id": "01ce8cb4-c42d-438c-8f84-9c10f5fd2d38",
   "metadata": {},
   "outputs": [
    {
     "data": {
      "text/plain": [
       "0        [who, praises, india, aarogya, setu, app, says...\n",
       "1        [in, delhi, deputy, us, secretary, of, state, ...\n",
       "2        [lac, tensions, china, strategy, behind, delib...\n",
       "3        [india, has, signed, documents, on, space, coo...\n",
       "4        [tamil, nadu, chief, minister, mother, passes,...\n",
       "                               ...                        \n",
       "56709    [fact, check, this, is, not, bruce, lee, playi...\n",
       "56710    [fact, check, did, japan, construct, this, bri...\n",
       "56711    [fact, check, viral, video, of, mexico, earthq...\n",
       "56712    [fact, check, ballet, performance, by, chinese...\n",
       "56713    [fact, check, is, this, little, boy, crossing,...\n",
       "Name: Statement, Length: 56714, dtype: object"
      ]
     },
     "execution_count": 34,
     "metadata": {},
     "output_type": "execute_result"
    }
   ],
   "source": [
    "text = df.Statement.apply(simple_preprocess)\n",
    "text"
   ]
  },
  {
   "cell_type": "code",
   "execution_count": 35,
   "id": "a5acb2b0-8328-4b8e-a434-324e4f464849",
   "metadata": {},
   "outputs": [],
   "source": [
    "model = Word2Vec(window=10, min_count=2, workers=4)"
   ]
  },
  {
   "cell_type": "code",
   "execution_count": 36,
   "id": "b5361897-233f-4fa8-9e8b-01a128269cb4",
   "metadata": {},
   "outputs": [],
   "source": [
    "model.build_vocab(text, progress_per=1000)"
   ]
  },
  {
   "cell_type": "code",
   "execution_count": 37,
   "id": "d1c6afe2-cd09-4639-97df-7eb0c0ad4381",
   "metadata": {},
   "outputs": [
    {
     "data": {
      "text/plain": [
       "5"
      ]
     },
     "execution_count": 37,
     "metadata": {},
     "output_type": "execute_result"
    }
   ],
   "source": [
    "model.epochs"
   ]
  },
  {
   "cell_type": "code",
   "execution_count": 38,
   "id": "aab9fea4-483f-49a7-bbba-a960c481f364",
   "metadata": {},
   "outputs": [
    {
     "data": {
      "text/plain": [
       "(2998598, 3608635)"
      ]
     },
     "execution_count": 38,
     "metadata": {},
     "output_type": "execute_result"
    }
   ],
   "source": [
    "model.train(text, total_examples=model.corpus_count, epochs=model.epochs)"
   ]
  },
  {
   "cell_type": "markdown",
   "id": "0ba10f29-1091-4996-a7f7-d81568165b20",
   "metadata": {
    "tags": []
   },
   "source": [
    "### Finding Similar Words and Similarity between words"
   ]
  },
  {
   "cell_type": "code",
   "execution_count": 43,
   "id": "2a2e80c4-335e-4118-8bef-464561854970",
   "metadata": {},
   "outputs": [
    {
     "data": {
      "text/plain": [
       "[('much', 0.9406580328941345),\n",
       " ('possible', 0.9396004676818848),\n",
       " ('enough', 0.9371371269226074),\n",
       " ('important', 0.9342324733734131),\n",
       " ('too', 0.927841067314148),\n",
       " ('mean', 0.9252043962478638),\n",
       " ('green', 0.9230610728263855),\n",
       " ('demonetisation', 0.9229668378829956),\n",
       " ('ôno', 0.9221525192260742),\n",
       " ('ready', 0.9219070672988892)]"
      ]
     },
     "execution_count": 43,
     "metadata": {},
     "output_type": "execute_result"
    }
   ],
   "source": [
    "model.wv.most_similar(\"good\")"
   ]
  },
  {
   "cell_type": "code",
   "execution_count": 44,
   "id": "440fafa2-e9e8-44e5-ae58-ea7226a770a0",
   "metadata": {},
   "outputs": [
    {
     "data": {
      "text/plain": [
       "[('prevented', 0.9731720089912415),\n",
       " ('kumari', 0.9687905311584473),\n",
       " ('itï', 0.9687070846557617),\n",
       " ('chose', 0.9682887196540833),\n",
       " ('rivals', 0.9676446318626404),\n",
       " ('dropped', 0.9656383395195007),\n",
       " ('zebra', 0.9647590517997742),\n",
       " ('fatehpur', 0.9641623497009277),\n",
       " ('postal', 0.9639617800712585),\n",
       " ('winner', 0.9639606475830078)]"
      ]
     },
     "execution_count": 44,
     "metadata": {},
     "output_type": "execute_result"
    }
   ],
   "source": [
    "model.wv.most_similar(\"bad\")"
   ]
  },
  {
   "cell_type": "code",
   "execution_count": 46,
   "id": "0701cec9-d216-4e3e-98e0-c01126c9f3f1",
   "metadata": {},
   "outputs": [
    {
     "data": {
      "text/plain": [
       "[('coronavirus', 0.9577255845069885),\n",
       " ('corona', 0.8269731402397156),\n",
       " ('dengue', 0.741766631603241),\n",
       " ('antigen', 0.7362602353096008),\n",
       " ('virus', 0.7284128665924072),\n",
       " ('fainted', 0.7260945439338684),\n",
       " ('nims', 0.7239343523979187),\n",
       " ('serum', 0.7184219360351562),\n",
       " ('isolated', 0.7126367092132568),\n",
       " ('medical', 0.7088669538497925)]"
      ]
     },
     "execution_count": 46,
     "metadata": {},
     "output_type": "execute_result"
    }
   ],
   "source": [
    "model.wv.most_similar(\"covid\")"
   ]
  },
  {
   "cell_type": "code",
   "execution_count": 47,
   "id": "36dec9a7-b199-405d-a72c-8e63dfa4c1be",
   "metadata": {},
   "outputs": [
    {
     "data": {
      "text/plain": [
       "[('bishop', 0.9486772418022156),\n",
       " ('franco', 0.9470992088317871),\n",
       " ('bineesh', 0.9427456855773926),\n",
       " ('icici', 0.9424391388893127),\n",
       " ('directors', 0.9422849416732788),\n",
       " ('nun', 0.9418856501579285),\n",
       " ('forensic', 0.9382248520851135),\n",
       " ('sandalwood', 0.9368215203285217),\n",
       " ('penalty', 0.9350729584693909),\n",
       " ('summoned', 0.9340781569480896)]"
      ]
     },
     "execution_count": 47,
     "metadata": {},
     "output_type": "execute_result"
    }
   ],
   "source": [
    "model.wv.most_similar(\"drugs\")"
   ]
  },
  {
   "cell_type": "code",
   "execution_count": 48,
   "id": "b619192e-f377-402d-860e-24d4e7577a8d",
   "metadata": {},
   "outputs": [
    {
     "data": {
      "text/plain": [
       "-0.10727027"
      ]
     },
     "execution_count": 48,
     "metadata": {},
     "output_type": "execute_result"
    }
   ],
   "source": [
    "model.wv.similarity(w1=\"bjp\", w2=\"covid\")"
   ]
  },
  {
   "cell_type": "code",
   "execution_count": 49,
   "id": "ba6cf4e1-055d-4b2f-ac59-b7169bec4895",
   "metadata": {},
   "outputs": [
    {
     "data": {
      "text/plain": [
       "0.7801846"
      ]
     },
     "execution_count": 49,
     "metadata": {},
     "output_type": "execute_result"
    }
   ],
   "source": [
    "model.wv.similarity(w1=\"aap\", w2=\"bjp\")"
   ]
  },
  {
   "cell_type": "code",
   "execution_count": 24,
   "id": "76a18300-dfeb-4969-b50a-67a63e498b63",
   "metadata": {},
   "outputs": [],
   "source": [
    "import matplotlib.pyplot as plt"
   ]
  },
  {
   "cell_type": "code",
   "execution_count": 25,
   "id": "0cba9c6b-ebd1-46a4-ba44-c86e577c8cad",
   "metadata": {
    "tags": []
   },
   "outputs": [],
   "source": [
    "def plot_confusion_matrix(cm, classes,\n",
    "                          normalize=False,\n",
    "                          title='Confusion matrix',\n",
    "                          cmap=plt.cm.Blues):\n",
    "    \"\"\"\n",
    "    See full source and example: \n",
    "    http://scikit-learn.org/stable/auto_examples/model_selection/plot_confusion_matrix.html\n",
    "    \n",
    "    This function prints and plots the confusion matrix.\n",
    "    Normalization can be applied by setting `normalize=True`.\n",
    "    \"\"\"\n",
    "    plt.imshow(cm, interpolation='nearest', cmap=cmap)\n",
    "    plt.title(title)\n",
    "    plt.colorbar()\n",
    "    tick_marks = np.arange(len(classes))\n",
    "    plt.xticks(tick_marks, classes, rotation=45)\n",
    "    plt.yticks(tick_marks, classes)\n",
    "\n",
    "    if normalize:\n",
    "        cm = cm.astype('float') / cm.sum(axis=1)[:, np.newaxis]\n",
    "        print(\"Normalized confusion matrix\")\n",
    "    else:\n",
    "        print('Confusion matrix, without normalization')\n",
    "\n",
    "    thresh = cm.max() / 2.\n",
    "    for i, j in itertools.product(range(cm.shape[0]), range(cm.shape[1])):\n",
    "        plt.text(j, i, cm[i, j],\n",
    "                 horizontalalignment=\"center\",\n",
    "                 color=\"white\" if cm[i, j] > thresh else \"black\")\n",
    "\n",
    "    plt.tight_layout()\n",
    "    plt.ylabel('True label')\n",
    "    plt.xlabel('Predicted label')"
   ]
  },
  {
   "cell_type": "markdown",
   "id": "576133fc-f3c3-48df-a238-a7e4dea76de1",
   "metadata": {
    "tags": []
   },
   "source": [
    "### Multinomial Naive Bayes Algorithm"
   ]
  },
  {
   "cell_type": "code",
   "execution_count": 41,
   "id": "fc1ebe30-ac59-4668-93ea-b99ed9569fba",
   "metadata": {},
   "outputs": [],
   "source": [
    "from sklearn.naive_bayes import MultinomialNB\n",
    "classifier=MultinomialNB()"
   ]
  },
  {
   "cell_type": "code",
   "execution_count": 42,
   "id": "849d2d99-fa79-4464-be4d-3673b73c8478",
   "metadata": {},
   "outputs": [],
   "source": [
    "from sklearn import metrics\n",
    "import itertools"
   ]
  },
  {
   "cell_type": "code",
   "execution_count": 52,
   "id": "5b6023b9-ca0f-4180-9554-f5373917b301",
   "metadata": {},
   "outputs": [
    {
     "name": "stdout",
     "output_type": "stream",
     "text": [
      "accuracy:   0.929\n",
      "Confusion matrix, without normalization\n"
     ]
    },
    {
     "data": {
      "image/png": "[encoded data removed]",
      "text/plain": [
       "<Figure size 640x480 with 2 Axes>"
      ]
     },
     "metadata": {},
     "output_type": "display_data"
    }
   ],
   "source": [
    "classifier.fit(X_train, y_train)\n",
    "pred = classifier.predict(X_test)\n",
    "score = metrics.accuracy_score(y_test, pred)\n",
    "print(\"accuracy:   %0.3f\" % score)\n",
    "cm = metrics.confusion_matrix(y_test, pred)\n",
    "plot_confusion_matrix(cm, classes=['FAKE', 'REAL'])"
   ]
  },
  {
   "cell_type": "markdown",
   "id": "2afc9586-1f21-4ef1-a5fb-12650e718911",
   "metadata": {
    "tags": []
   },
   "source": [
    "### Passive Aggressive Classifier Algorithm"
   ]
  },
  {
   "cell_type": "code",
   "execution_count": 54,
   "id": "1e97f6e9-4e52-4183-9cc1-b53691a83b1a",
   "metadata": {},
   "outputs": [],
   "source": [
    "from sklearn.linear_model import PassiveAggressiveClassifier\n",
    "linear_clf = PassiveAggressiveClassifier(n_iter_no_change=50)"
   ]
  },
  {
   "cell_type": "code",
   "execution_count": 55,
   "id": "6a5af465-32a9-4a56-b610-5466bd227127",
   "metadata": {},
   "outputs": [
    {
     "name": "stdout",
     "output_type": "stream",
     "text": [
      "accuracy:   0.927\n",
      "Confusion matrix, without normalization\n"
     ]
    },
    {
     "data": {
      "image/png": "[encoded data removed]",
      "text/plain": [
       "<Figure size 640x480 with 2 Axes>"
      ]
     },
     "metadata": {},
     "output_type": "display_data"
    }
   ],
   "source": [
    "linear_clf.fit(X_train, y_train)\n",
    "pred = linear_clf.predict(X_test)\n",
    "score = metrics.accuracy_score(y_test, pred)\n",
    "print(\"accuracy:   %0.3f\" % score)\n",
    "cm = metrics.confusion_matrix(y_test, pred)\n",
    "plot_confusion_matrix(cm, classes=['FAKE', 'REAL'])"
   ]
  },
  {
   "cell_type": "markdown",
   "id": "6dc75f4f-77e1-4700-82b7-b47637c7ef89",
   "metadata": {
    "tags": []
   },
   "source": [
    "### Multinomial Classifier with Hyperparameter"
   ]
  },
  {
   "cell_type": "code",
   "execution_count": 56,
   "id": "abfc7abb-5c64-4556-b0d6-3dce681b90ff",
   "metadata": {},
   "outputs": [],
   "source": [
    "classifier=MultinomialNB(alpha=0.1)"
   ]
  },
  {
   "cell_type": "code",
   "execution_count": 57,
   "id": "f3ef108c-9935-4edd-9507-5e6aabdee70a",
   "metadata": {},
   "outputs": [
    {
     "name": "stderr",
     "output_type": "stream",
     "text": [
      "C:\\Users\\Rajat\\AppData\\Local\\Programs\\Python\\Python310\\lib\\site-packages\\sklearn\\naive_bayes.py:591: UserWarning: alpha too small will result in numeric errors, setting alpha = 1.0e-10\n",
      "  warnings.warn(\n"
     ]
    },
    {
     "name": "stdout",
     "output_type": "stream",
     "text": [
      "Alpha: 0.0, Score : 0.9286706561231032\n",
      "Alpha: 0.1, Score : 0.9296324000854883\n",
      "Alpha: 0.2, Score : 0.9294186792049584\n",
      "Alpha: 0.30000000000000004, Score : 0.9296858303056209\n",
      "Alpha: 0.4, Score : 0.9297392605257534\n",
      "Alpha: 0.5, Score : 0.9297926907458859\n",
      "Alpha: 0.6000000000000001, Score : 0.9298461209660184\n",
      "Alpha: 0.7000000000000001, Score : 0.9298995511861509\n",
      "Alpha: 0.8, Score : 0.9296324000854883\n",
      "Alpha: 0.9, Score : 0.9293652489848259\n"
     ]
    }
   ],
   "source": [
    "previous_score=0\n",
    "for alpha in np.arange(0,1,0.1):\n",
    "    sub_classifier=MultinomialNB(alpha=alpha)\n",
    "    sub_classifier.fit(X_train,y_train)\n",
    "    y_pred=sub_classifier.predict(X_test)\n",
    "    score = metrics.accuracy_score(y_test, y_pred)\n",
    "    if score>previous_score:\n",
    "        classifier=sub_classifier\n",
    "    print(\"Alpha: {}, Score : {}\".format(alpha,score))"
   ]
  },
  {
   "cell_type": "markdown",
   "id": "92552122-09fa-47c3-a7be-d82d728725df",
   "metadata": {
    "tags": []
   },
   "source": [
    "## Deep Learning"
   ]
  },
  {
   "cell_type": "code",
   "execution_count": 37,
   "id": "f8cdf2b8-5348-48a6-ad22-ad47fea9dea3",
   "metadata": {},
   "outputs": [],
   "source": [
    "from tensorflow.keras.layers import Embedding\n",
    "from tensorflow.keras.preprocessing.sequence import pad_sequences\n",
    "from tensorflow.keras.models import Sequential\n",
    "from tensorflow.keras.preprocessing.text import one_hot\n",
    "from tensorflow.keras.layers import LSTM\n",
    "from tensorflow.keras.layers import Dense\n",
    "from tensorflow.keras.layers import Bidirectional\n",
    "from tensorflow.keras.layers import Dropout"
   ]
  },
  {
   "cell_type": "code",
   "execution_count": 38,
   "id": "a57a33ac-0399-4e61-abc6-fc1fea24159d",
   "metadata": {},
   "outputs": [],
   "source": [
    "voc_size = 10000"
   ]
  },
  {
   "cell_type": "code",
   "execution_count": 39,
   "id": "aa21975a-1830-4999-acca-b5f3308fdc8f",
   "metadata": {},
   "outputs": [],
   "source": [
    "onehot_repr=[one_hot(words,voc_size)for words in corpus]"
   ]
  },
  {
   "cell_type": "code",
   "execution_count": 40,
   "id": "5d4b1038-2537-4fc5-b458-7fb6ed7a01e4",
   "metadata": {},
   "outputs": [
    {
     "name": "stdout",
     "output_type": "stream",
     "text": [
      "[[   0    0    0 ... 7881 9282 7630]\n",
      " [   0    0    0 ... 3544 9584 6738]\n",
      " [   0    0    0 ... 4337 4230 8642]\n",
      " ...\n",
      " [   0    0    0 ... 9542 9390 2462]\n",
      " [   0    0    0 ... 5798 3322 5526]\n",
      " [   0    0    0 ... 4308 9454 2949]]\n"
     ]
    }
   ],
   "source": [
    "embedded_docs=pad_sequences(onehot_repr,padding='pre',maxlen=maxLength)\n",
    "print(embedded_docs)"
   ]
  },
  {
   "cell_type": "code",
   "execution_count": 41,
   "id": "ceff1647-5664-4006-8cf5-222dba5ae613",
   "metadata": {},
   "outputs": [
    {
     "data": {
      "text/plain": [
       "array([   0,    0,    0,    0,    0,    0,    0,    0,    0,    0,    0,\n",
       "          0,    0,    0,    0,    0,    0,    0,    0,    0,    0,    0,\n",
       "          0,    0,    0,    0,    0, 5956, 8642, 6664, 5046, 9912, 4757,\n",
       "       3310, 7881, 9282, 7630])"
      ]
     },
     "execution_count": 41,
     "metadata": {},
     "output_type": "execute_result"
    }
   ],
   "source": [
    "embedded_docs[0]"
   ]
  },
  {
   "cell_type": "code",
   "execution_count": 42,
   "id": "0d17f962-6f10-485b-9cb1-a035f61bc4a1",
   "metadata": {},
   "outputs": [
    {
     "data": {
      "text/plain": [
       "array([  79, 6787, 6629, 3790, 1650,  637, 9346, 6940, 1203, 6582, 5628,\n",
       "       1700, 8625, 1203, 2310, 3936, 7944, 8900, 1075, 9111, 3849, 3568,\n",
       "       4005, 1390, 4026, 1203, 7204, 8426, 2837, 6510, 4131,  589, 2843,\n",
       "       5543, 5118, 8363, 1561])"
      ]
     },
     "execution_count": 42,
     "metadata": {},
     "output_type": "execute_result"
    }
   ],
   "source": [
    "embedded_docs[998]"
   ]
  },
  {
   "cell_type": "code",
   "execution_count": 43,
   "id": "2272e745-1b8c-4b0e-b682-02ebf91031df",
   "metadata": {},
   "outputs": [
    {
     "name": "stdout",
     "output_type": "stream",
     "text": [
      "Model: \"sequential\"\n",
      "_________________________________________________________________\n",
      " Layer (type)                Output Shape              Param #   \n",
      "=================================================================\n",
      " embedding (Embedding)       (None, 37, 40)            400000    \n",
      "                                                                 \n",
      " lstm (LSTM)                 (None, 100)               56400     \n",
      "                                                                 \n",
      " dense (Dense)               (None, 1)                 101       \n",
      "                                                                 \n",
      "=================================================================\n",
      "Total params: 456,501\n",
      "Trainable params: 456,501\n",
      "Non-trainable params: 0\n",
      "_________________________________________________________________\n",
      "None\n"
     ]
    }
   ],
   "source": [
    "## Creating model\n",
    "embedding_vector_features=40\n",
    "model=Sequential()\n",
    "model.add(Embedding(voc_size,embedding_vector_features,input_length=maxLength))\n",
    "model.add(LSTM(100))\n",
    "model.add(Dense(1,activation='sigmoid'))\n",
    "model.compile(loss='binary_crossentropy',optimizer='adam',metrics=['accuracy'])\n",
    "print(model.summary())"
   ]
  },
  {
   "cell_type": "code",
   "execution_count": 44,
   "id": "114602bc-a9ce-4486-aabe-b6f1278a30e0",
   "metadata": {},
   "outputs": [
    {
     "data": {
      "text/plain": [
       "(56714, (56714,))"
      ]
     },
     "execution_count": 44,
     "metadata": {},
     "output_type": "execute_result"
    }
   ],
   "source": [
    "len(embedded_docs),y.shape"
   ]
  },
  {
   "cell_type": "code",
   "execution_count": 45,
   "id": "10d91a2c-7097-413b-b0db-3de06c526d83",
   "metadata": {},
   "outputs": [],
   "source": [
    "X_final=np.array(embedded_docs)\n",
    "y_final=np.array(y)"
   ]
  },
  {
   "cell_type": "code",
   "execution_count": 46,
   "id": "00a33e7e-2c59-4027-928b-aa62cd5c0aa0",
   "metadata": {},
   "outputs": [
    {
     "data": {
      "text/plain": [
       "((56714, 37), (56714,))"
      ]
     },
     "execution_count": 46,
     "metadata": {},
     "output_type": "execute_result"
    }
   ],
   "source": [
    "X_final.shape,y_final.shape"
   ]
  },
  {
   "cell_type": "code",
   "execution_count": 47,
   "id": "3bb5a2bd-7ee9-41c0-823d-73df24cc6746",
   "metadata": {},
   "outputs": [],
   "source": [
    "from sklearn.model_selection import train_test_split\n",
    "X_train, X_test, y_train, y_test = train_test_split(X_final, y_final, test_size=0.33, random_state=42)"
   ]
  },
  {
   "cell_type": "markdown",
   "id": "1ea77e12-df67-40ef-9517-25802b681ab8",
   "metadata": {},
   "source": [
    "### Model Training"
   ]
  },
  {
   "cell_type": "code",
   "execution_count": 48,
   "id": "9ab8d653-471d-4ebb-ac2f-e298c9249399",
   "metadata": {},
   "outputs": [
    {
     "name": "stdout",
     "output_type": "stream",
     "text": [
      "Epoch 1/10\n",
      "594/594 [==============================] - 28s 44ms/step - loss: 0.2486 - accuracy: 0.9031 - val_loss: 0.1838 - val_accuracy: 0.9361\n",
      "Epoch 2/10\n",
      "594/594 [==============================] - 26s 44ms/step - loss: 0.1540 - accuracy: 0.9467 - val_loss: 0.1836 - val_accuracy: 0.9354\n",
      "Epoch 3/10\n",
      "594/594 [==============================] - 26s 43ms/step - loss: 0.1292 - accuracy: 0.9551 - val_loss: 0.1877 - val_accuracy: 0.9349\n",
      "Epoch 4/10\n",
      "594/594 [==============================] - 26s 43ms/step - loss: 0.1085 - accuracy: 0.9622 - val_loss: 0.1972 - val_accuracy: 0.9333\n",
      "Epoch 5/10\n",
      "594/594 [==============================] - 27s 46ms/step - loss: 0.0906 - accuracy: 0.9679 - val_loss: 0.2378 - val_accuracy: 0.9296\n",
      "Epoch 6/10\n",
      "594/594 [==============================] - 26s 43ms/step - loss: 0.0741 - accuracy: 0.9733 - val_loss: 0.2424 - val_accuracy: 0.9278\n",
      "Epoch 7/10\n",
      "594/594 [==============================] - 26s 43ms/step - loss: 0.0641 - accuracy: 0.9761 - val_loss: 0.3135 - val_accuracy: 0.9251\n",
      "Epoch 8/10\n",
      "594/594 [==============================] - 27s 45ms/step - loss: 0.0543 - accuracy: 0.9788 - val_loss: 0.3235 - val_accuracy: 0.9227\n",
      "Epoch 9/10\n",
      "594/594 [==============================] - 26s 43ms/step - loss: 0.0473 - accuracy: 0.9809 - val_loss: 0.3650 - val_accuracy: 0.9189\n",
      "Epoch 10/10\n",
      "594/594 [==============================] - 26s 43ms/step - loss: 0.0415 - accuracy: 0.9826 - val_loss: 0.3848 - val_accuracy: 0.9222\n"
     ]
    }
   ],
   "source": [
    "### Finally Training\n",
    "history = model.fit(X_train,y_train,validation_data=(X_test,y_test),epochs=10,batch_size=64)"
   ]
  },
  {
   "cell_type": "markdown",
   "id": "acf52807-1af3-453a-9162-205270b5fade",
   "metadata": {},
   "source": [
    "### Performance Metrics And Accuracy"
   ]
  },
  {
   "cell_type": "code",
   "execution_count": 52,
   "id": "d850e34a-c690-4233-bcd5-bf0b17b0e9b9",
   "metadata": {},
   "outputs": [
    {
     "name": "stdout",
     "output_type": "stream",
     "text": [
      "585/585 [==============================] - 8s 14ms/step\n"
     ]
    }
   ],
   "source": [
    "y_pred = (model.predict(X_test) > 0.5).astype(\"int32\")"
   ]
  },
  {
   "cell_type": "code",
   "execution_count": 46,
   "id": "10ab76bf-a9ba-4178-9ed4-a53f5a3be113",
   "metadata": {},
   "outputs": [],
   "source": [
    "from sklearn.metrics import confusion_matrix"
   ]
  },
  {
   "cell_type": "code",
   "execution_count": 53,
   "id": "196dcfaf-e157-49f4-a224-611b598054ed",
   "metadata": {},
   "outputs": [
    {
     "data": {
      "text/plain": [
       "array([[11772,   699],\n",
       "       [  733,  5512]], dtype=int64)"
      ]
     },
     "execution_count": 53,
     "metadata": {},
     "output_type": "execute_result"
    }
   ],
   "source": [
    "confusion_matrix(y_test,y_pred)"
   ]
  },
  {
   "cell_type": "code",
   "execution_count": 54,
   "id": "9cb4fe03-fc86-49a6-b2f9-cd394dd979b7",
   "metadata": {},
   "outputs": [
    {
     "data": {
      "text/plain": [
       "0.9234879247702501"
      ]
     },
     "execution_count": 54,
     "metadata": {},
     "output_type": "execute_result"
    }
   ],
   "source": [
    "from sklearn.metrics import accuracy_score\n",
    "accuracy_score(y_test,y_pred)"
   ]
  },
  {
   "cell_type": "code",
   "execution_count": 49,
   "id": "773c5ca3-f940-4df5-88c4-add63cb7b42f",
   "metadata": {},
   "outputs": [
    {
     "data": {
      "image/png": "[encoded data removed]",
      "text/plain": [
       "<Figure size 640x480 with 1 Axes>"
      ]
     },
     "metadata": {},
     "output_type": "display_data"
    }
   ],
   "source": [
    "plt.plot(history.history['accuracy'])\n",
    "plt.plot(history.history['val_accuracy'])\n",
    "plt.title('model accuracy')\n",
    "plt.ylabel('accuracy')\n",
    "plt.xlabel('epoch')\n",
    "plt.legend(['train', 'test'], loc='upper left')\n",
    "plt.show()"
   ]
  },
  {
   "cell_type": "code",
   "execution_count": 50,
   "id": "cc380912-e883-4cac-bd21-882c03c3635c",
   "metadata": {},
   "outputs": [
    {
     "data": {
      "image/png": "[encoded data removed]",
      "text/plain": [
       "<Figure size 640x480 with 1 Axes>"
      ]
     },
     "metadata": {},
     "output_type": "display_data"
    }
   ],
   "source": [
    "plt.plot(history.history['loss'])\n",
    "plt.plot(history.history['val_loss'])\n",
    "plt.title('model loss')\n",
    "plt.ylabel('loss')\n",
    "plt.xlabel('epoch')\n",
    "plt.legend(['train', 'test'], loc='upper left')\n",
    "plt.show()"
   ]
  }
 ],
 "metadata": {
  "kernelspec": {
   "display_name": "Python 3 (ipykernel)",
   "language": "python",
   "name": "python3"
  },
  "language_info": {
   "codemirror_mode": {
    "name": "ipython",
    "version": 3
   },
   "file_extension": ".py",
   "mimetype": "text/x-python",
   "name": "python",
   "nbconvert_exporter": "python",
   "pygments_lexer": "ipython3",
   "version": "3.10.8"
  }
 },
 "nbformat": 4,
 "nbformat_minor": 5
}
